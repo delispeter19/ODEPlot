{
 "cells": [
  {
   "cell_type": "code",
   "execution_count": 2,
   "metadata": {},
   "outputs": [],
   "source": [
    "import numpy as np\n",
    "import matplotlib.pyplot as plt\n",
    "from scipy.integrate import solve_ivp"
   ]
  },
  {
   "cell_type": "code",
   "execution_count": 3,
   "metadata": {},
   "outputs": [],
   "source": [
    "#SOLVE WITH SOLVE_IVP AND NUMPY"
   ]
  },
  {
   "cell_type": "code",
   "execution_count": 3,
   "metadata": {},
   "outputs": [],
   "source": [
    "param = [[1.0,-4.0],[4.0, -7.0]]"
   ]
  },
  {
   "cell_type": "code",
   "execution_count": 31,
   "metadata": {},
   "outputs": [],
   "source": [
    "def slope(t,y):\n",
    "    #gt = np.array([6*t,-10*t+4])\n",
    "    #return [-3/2*y[0]+1/2*y[1],1*y[0]-1*y[1]]\n",
    "    #return(np.matmul(param,[y[0]**3,y[1]**3]))\n",
    "    #return(np.matmul([y[0]**3,y[1]**3],param))\n",
    "    #return(3*np.power(t,2)*y)\n",
    "    return((y-1)*(y+1)*(y-3))\n",
    "    #return(np.matmul(param,y))\n",
    "    #return [-0.1*y[0]**3-2*y[1]**3,2*y[0]**3-0.1*y[1]**3]\n",
    "    #return ((1/10)*(1-y/0.1)*(1-y/0.5)*(1-y/0.7))"
   ]
  },
  {
   "cell_type": "code",
   "execution_count": 4,
   "metadata": {},
   "outputs": [],
   "source": [
    "#FUNCTIONS GENERAL"
   ]
  },
  {
   "cell_type": "code",
   "execution_count": 5,
   "metadata": {},
   "outputs": [],
   "source": [
    "def random():\n",
    "    rand = 0\n",
    "    while abs(rand) < 0.5 or abs(rand) > 3:\n",
    "        rand = np.random.normal(0, 1, 1)[0]\n",
    "    return rand"
   ]
  },
  {
   "cell_type": "code",
   "execution_count": 6,
   "metadata": {},
   "outputs": [],
   "source": [
    "#FUNCTIONS NUMPY"
   ]
  },
  {
   "cell_type": "code",
   "execution_count": 7,
   "metadata": {},
   "outputs": [],
   "source": [
    "def getSlopes(x1,x2):\n",
    "    dim =  x1.shape[0] * x2.shape[0]\n",
    "    slopeList = np.zeros((dim,2))\n",
    "    i = 0\n",
    "    for l in x1:\n",
    "        for k in x2:\n",
    "            #print(slope([],[l,k]))\n",
    "            slopeList[i] = slope([],[l,k])\n",
    "            i += 1\n",
    "    return slopeList"
   ]
  },
  {
   "cell_type": "code",
   "execution_count": 8,
   "metadata": {},
   "outputs": [],
   "source": [
    "def drawDFN(ySpace,h):\n",
    "    for l in ySpace:\n",
    "        for k in ySpace:\n",
    "            #direction i and j + Magnitude of <i,j>\n",
    "            #print(slope([],[l,k]))\n",
    "            i = slope(t,[l,k])[0]\n",
    "            j = slope(t,[l,k])[1]  \n",
    "            magnitude = np.sqrt(i**2+j**2)\n",
    "\n",
    "            #normalize and scale by h\n",
    "            i = h*i/magnitude\n",
    "            j = h*j/magnitude\n",
    "\n",
    "            current_domain = np.linspace(l-(i/2), l+(i/2), 2) #the end points of the small intervals\n",
    "            current_range = np.linspace(k-(j/2), k+(j/2), 2)\n",
    "\n",
    "            plt.plot(current_domain, current_range, lw=0.2, color='b')\n",
    "            plt.arrow(current_domain[0],current_range[0], i, j, color='blue', lw=0.5, length_includes_head=True, head_length=.06, head_width=.06)"
   ]
  },
  {
   "cell_type": "code",
   "execution_count": 30,
   "metadata": {},
   "outputs": [],
   "source": [
    "def linear(x1, y1, slope, domain):\n",
    "    z = (slope)*(x1-domain)-y1\n",
    "    return z"
   ]
  },
  {
   "cell_type": "code",
   "execution_count": 10,
   "metadata": {},
   "outputs": [],
   "source": [
    "def drawDFN1(yspace,h):\n",
    "    for j in yspace:\n",
    "        for k in yspace:\n",
    "            local_slope = slope(j, k)\n",
    "            dt = (np.sqrt(h**2/((local_slope**2)+1))) #adjusts dt in proportion to constant h\n",
    "            arrow_dt = (dt)+0.01\n",
    "            arrow_dy = local_slope*arrow_dt\n",
    "            current_domain = np.linspace(j-(dt/2), j+(dt/2), 2) #the end points of the small intervals\n",
    "\n",
    "            plt.plot(current_domain,linear(j, k, local_slope, current_domain), color='purple')"
   ]
  },
  {
   "cell_type": "code",
   "execution_count": 17,
   "metadata": {},
   "outputs": [],
   "source": [
    "#GRAPHING"
   ]
  },
  {
   "cell_type": "code",
   "execution_count": 26,
   "metadata": {},
   "outputs": [],
   "source": [
    "Y = torch.linspace(-4.0,4.0,30)\n",
    "X = torch.linspace(-2.0,2.0,200)\n",
    "h = 0.15 "
   ]
  },
  {
   "cell_type": "code",
   "execution_count": 11,
   "metadata": {},
   "outputs": [],
   "source": [
    "sl = getSlopes(X.numpy(),X.numpy())"
   ]
  },
  {
   "cell_type": "code",
   "execution_count": 39,
   "metadata": {},
   "outputs": [],
   "source": [
    "x1 = -2*t-4/7+(6/35)*np.exp(7*t)-(-2/5)*np.exp(2*t)\n",
    "x2 = 6*t+10/7+(6/35)*np.exp(7*t)+4*(-2/5)*np.exp(2*t)"
   ]
  },
  {
   "cell_type": "code",
   "execution_count": 6,
   "metadata": {},
   "outputs": [
    {
     "data": {
      "image/png": "[encoded data removed]",
      "text/plain": [
       "<Figure size 432x288 with 1 Axes>"
      ]
     },
     "metadata": {
      "needs_background": "light"
     },
     "output_type": "display_data"
    }
   ],
   "source": [
    "#for i in range(0,1):\n",
    "#    y0 = [3,2]\n",
    "#    sol45 = solve_ivp(slope, ts, y0, t_eval=t, method='RK45')\n",
    "#    plt.plot(sol45.y[0],sol45.y[1])\n",
    "\n",
    "#plt.plot(x1.numpy(),x2.numpy())\n",
    "#drawDFN(Y.numpy(),h)\n",
    "drawDFN1(Y.numpy(),h)\n",
    "\n",
    "plt.xlim(-4,4)\n",
    "plt.ylim(-4,4)\n",
    "plt.grid(True)\n",
    "plt.show()"
   ]
  },
  {
   "cell_type": "code",
   "execution_count": null,
   "metadata": {},
   "outputs": [],
   "source": []
  }
 ],
 "metadata": {
  "kernelspec": {
   "display_name": "Python 3",
   "language": "python",
   "name": "python3"
  },
  "language_info": {
   "codemirror_mode": {
    "name": "ipython",
    "version": 3
   },
   "file_extension": ".py",
   "mimetype": "text/x-python",
   "name": "python",
   "nbconvert_exporter": "python",
   "pygments_lexer": "ipython3",
   "version": "3.8.1"
  }
 },
 "nbformat": 4,
 "nbformat_minor": 2
}
